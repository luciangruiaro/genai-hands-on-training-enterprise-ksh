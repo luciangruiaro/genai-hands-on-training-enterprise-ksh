{
 "cells": [
  {
   "cell_type": "markdown",
   "id": "c254414b",
   "metadata": {},
   "source": [
    "# 🧠 A Single Neuron Explained (with 3 Inputs and 1 Binary Output)\n",
    "\n",
    "Welcome to this **state-of-the-art notebook** designed to teach how a single artificial neuron works. This notebook covers every detail—from data setup, through forward and backward passes, to loss visualization, confusion matrix analysis, and interpretability.\n",
    "\n",
    "We use:\n",
    "- 3 binary inputs\n",
    "- 1 binary output\n",
    "- Sigmoid activation function\n",
    "- Mean Squared Error (MSE) loss\n",
    "\n",
    "Let's dive in! 🧪"
   ]
  },
  {
   "cell_type": "markdown",
   "id": "454bafe8",
   "metadata": {},
   "source": [
    "## 📊 Step 1: Define the Dataset\n",
    "We use all possible combinations of 3 binary inputs (0 or 1), and define the output as `1` if at least two inputs are active (i.e., value is 1), else `0`."
   ]
  },
  {
   "cell_type": "code",
   "id": "74ecdb10",
   "metadata": {
    "ExecuteTime": {
     "end_time": "2025-03-24T10:46:30.612902Z",
     "start_time": "2025-03-24T10:46:30.606400Z"
    }
   },
   "source": [
    "import numpy as np\n",
    "import pandas as pd\n",
    "import matplotlib.pyplot as plt\n",
    "from sklearn.metrics import confusion_matrix, ConfusionMatrixDisplay\n",
    "\n",
    "# Define inputs (truth table for 3 binary inputs)\n",
    "X = np.array([[int(x) for x in f\"{i:03b}\"] for i in range(8)])\n",
    "\n",
    "\n",
    "# Rule: output = first bit\n",
    "def first_bit_rule(x):\n",
    "    return x[0]\n",
    "\n",
    "# Apply rule\n",
    "y = np.array([[first_bit_rule(row)] for row in X])\n",
    "\n",
    "dataset = pd.DataFrame(X, columns=['Input 1', 'Input 2', 'Input 3'])\n",
    "dataset['Target'] = y\n",
    "\n",
    "# Display\n",
    "print(\"Dataset (Truth Table):\")\n",
    "dataset"
   ],
   "outputs": [
    {
     "name": "stdout",
     "output_type": "stream",
     "text": [
      "Dataset (Truth Table):\n"
     ]
    },
    {
     "data": {
      "text/plain": [
       "   Input 1  Input 2  Input 3  Target\n",
       "0        0        0        0       0\n",
       "1        0        0        1       0\n",
       "2        0        1        0       0\n",
       "3        0        1        1       0\n",
       "4        1        0        0       1\n",
       "5        1        0        1       1\n",
       "6        1        1        0       1\n",
       "7        1        1        1       1"
      ],
      "text/html": [
       "<div>\n",
       "<style scoped>\n",
       "    .dataframe tbody tr th:only-of-type {\n",
       "        vertical-align: middle;\n",
       "    }\n",
       "\n",
       "    .dataframe tbody tr th {\n",
       "        vertical-align: top;\n",
       "    }\n",
       "\n",
       "    .dataframe thead th {\n",
       "        text-align: right;\n",
       "    }\n",
       "</style>\n",
       "<table border=\"1\" class=\"dataframe\">\n",
       "  <thead>\n",
       "    <tr style=\"text-align: right;\">\n",
       "      <th></th>\n",
       "      <th>Input 1</th>\n",
       "      <th>Input 2</th>\n",
       "      <th>Input 3</th>\n",
       "      <th>Target</th>\n",
       "    </tr>\n",
       "  </thead>\n",
       "  <tbody>\n",
       "    <tr>\n",
       "      <th>0</th>\n",
       "      <td>0</td>\n",
       "      <td>0</td>\n",
       "      <td>0</td>\n",
       "      <td>0</td>\n",
       "    </tr>\n",
       "    <tr>\n",
       "      <th>1</th>\n",
       "      <td>0</td>\n",
       "      <td>0</td>\n",
       "      <td>1</td>\n",
       "      <td>0</td>\n",
       "    </tr>\n",
       "    <tr>\n",
       "      <th>2</th>\n",
       "      <td>0</td>\n",
       "      <td>1</td>\n",
       "      <td>0</td>\n",
       "      <td>0</td>\n",
       "    </tr>\n",
       "    <tr>\n",
       "      <th>3</th>\n",
       "      <td>0</td>\n",
       "      <td>1</td>\n",
       "      <td>1</td>\n",
       "      <td>0</td>\n",
       "    </tr>\n",
       "    <tr>\n",
       "      <th>4</th>\n",
       "      <td>1</td>\n",
       "      <td>0</td>\n",
       "      <td>0</td>\n",
       "      <td>1</td>\n",
       "    </tr>\n",
       "    <tr>\n",
       "      <th>5</th>\n",
       "      <td>1</td>\n",
       "      <td>0</td>\n",
       "      <td>1</td>\n",
       "      <td>1</td>\n",
       "    </tr>\n",
       "    <tr>\n",
       "      <th>6</th>\n",
       "      <td>1</td>\n",
       "      <td>1</td>\n",
       "      <td>0</td>\n",
       "      <td>1</td>\n",
       "    </tr>\n",
       "    <tr>\n",
       "      <th>7</th>\n",
       "      <td>1</td>\n",
       "      <td>1</td>\n",
       "      <td>1</td>\n",
       "      <td>1</td>\n",
       "    </tr>\n",
       "  </tbody>\n",
       "</table>\n",
       "</div>"
      ]
     },
     "execution_count": 24,
     "metadata": {},
     "output_type": "execute_result"
    }
   ],
   "execution_count": 24
  },
  {
   "cell_type": "markdown",
   "id": "3044c170",
   "metadata": {},
   "source": [
    "## 🔢 Step 2: Define Activation and Loss Functions\n",
    "We use the **sigmoid** activation function, and **Mean Squared Error (MSE)** for loss.\n",
    "- The sigmoid squashes any real-valued number to a range between 0 and 1.\n",
    "- MSE measures the average squared difference between predictions and targets."
   ]
  },
  {
   "metadata": {
    "ExecuteTime": {
     "end_time": "2025-03-24T10:46:32.802714Z",
     "start_time": "2025-03-24T10:46:32.798202Z"
    }
   },
   "cell_type": "code",
   "source": [
    "def sigmoid(z):\n",
    "    return 1 / (1 + np.exp(-z))\n",
    "\n",
    "\n",
    "def sigmoid_derivative(z):\n",
    "    s = sigmoid(z)\n",
    "    return s * (1 - s)\n",
    "\n",
    "\n",
    "def mse(y_true, y_pred):\n",
    "    return np.mean((y_true - y_pred) ** 2)\n",
    "\n",
    "\n",
    "def mse_dist(y_true, y_pred):\n",
    "    return (y_pred - y_true)"
   ],
   "id": "83bc57dfb6b3e6ec",
   "outputs": [],
   "execution_count": 25
  },
  {
   "cell_type": "markdown",
   "id": "371320cf",
   "metadata": {},
   "source": [
    "## ⚙️ Step 3: Initialize Parameters and Training Loop\n",
    "We randomly initialize the weights and bias, then train using **gradient descent**.\n",
    "- Forward pass: compute output\n",
    "- Backward pass: compute gradients\n",
    "- Update weights and bias"
   ]
  },
  {
   "metadata": {
    "ExecuteTime": {
     "end_time": "2025-03-24T15:02:50.594183Z",
     "start_time": "2025-03-24T15:02:50.579244Z"
    }
   },
   "cell_type": "code",
   "source": [
    "np.random.seed(42)\n",
    "weights = np.random.randn(3, 1)\n",
    "bias = np.random.randn(1)\n",
    "\n",
    "learning_rate = 0.1\n",
    "epochs = 10\n",
    "loss_history = []\n",
    "\n",
    "for epoch in range(epochs):\n",
    "    z = np.dot(X, weights) + bias\n",
    "    predictions = sigmoid(z)\n",
    "\n",
    "    # Compute loss\n",
    "    loss = mse(y, predictions)\n",
    "    loss_history.append(loss)\n",
    "\n",
    "    # Backpropagation\n",
    "    dloss = mse_dist(y, predictions)\n",
    "    dactivation = sigmoid_derivative(z)\n",
    "    dz = dloss * dactivation\n",
    "\n",
    "    dw = np.dot(X.T, dz)\n",
    "    db = np.sum(dz)\n",
    "\n",
    "    # Update weights and bias\n",
    "    weights -= learning_rate * dw\n",
    "    bias -= learning_rate * db\n",
    "\n",
    "    if epoch % 100 == 0:\n",
    "        print(f\"Epoch {epoch}, Loss: {loss:.4f}\")"
   ],
   "id": "2aee1788e5c575cd",
   "outputs": [
    {
     "name": "stdout",
     "output_type": "stream",
     "text": [
      "Epoch 0, Loss: 0.3677\n"
     ]
    }
   ],
   "execution_count": 30
  },
  {
   "cell_type": "markdown",
   "id": "250a9580",
   "metadata": {},
   "source": [
    "## 📉 Step 4: Visualize Training Loss\n",
    "This graph shows how the neuron improves its predictions by minimizing the loss."
   ]
  },
  {
   "cell_type": "code",
   "id": "0ae5f0e8",
   "metadata": {
    "ExecuteTime": {
     "end_time": "2025-03-24T10:45:45.523296Z",
     "start_time": "2025-03-24T10:45:45.472204Z"
    }
   },
   "source": [
    "plt.plot(loss_history)\n",
    "plt.title(\"MSE Loss over Epochs\")\n",
    "plt.xlabel(\"Epoch\")\n",
    "plt.ylabel(\"Loss\")\n",
    "plt.grid(True)\n",
    "plt.show()"
   ],
   "outputs": [
    {
     "data": {
      "text/plain": [
       "<Figure size 640x480 with 1 Axes>"
      ],
      "image/png": "[encoded data removed]"
     },
     "metadata": {},
     "output_type": "display_data"
    }
   ],
   "execution_count": 19
  },
  {
   "cell_type": "markdown",
   "id": "2d286f55",
   "metadata": {},
   "source": [
    "## 📈 Step 5: Final Predictions and Evaluation\n",
    "We now evaluate how well the neuron performs after training. We show:\n",
    "- Predicted probabilities\n",
    "- Predicted classes (thresholded at 0.5)\n",
    "- A confusion matrix to analyze performance"
   ]
  },
  {
   "cell_type": "code",
   "id": "b1d54348",
   "metadata": {
    "ExecuteTime": {
     "end_time": "2025-03-24T10:45:47.713061Z",
     "start_time": "2025-03-24T10:45:47.705045Z"
    }
   },
   "source": [
    "# Final predictions\n",
    "z_final = np.dot(X, weights) + bias\n",
    "final_probs = sigmoid(z_final)\n",
    "final_classes = (final_probs > 0.5).astype(int)\n",
    "\n",
    "results = pd.DataFrame(X, columns=[\"Input 1\", \"Input 2\", \"Input 3\"])\n",
    "results['Target'] = y\n",
    "results['Predicted Probability'] = final_probs.round(3)\n",
    "results['Predicted Class'] = final_classes\n",
    "results"
   ],
   "outputs": [
    {
     "data": {
      "text/plain": [
       "   Input 1  Input 2  Input 3  Target  Predicted Probability  Predicted Class\n",
       "0        0        0        0       0                  0.750                1\n",
       "1        0        0        1       0                  0.825                1\n",
       "2        0        1        0       0                  0.678                1\n",
       "3        0        1        1       0                  0.768                1\n",
       "4        1        0        0       1                  0.839                1\n",
       "5        1        0        1       1                  0.891                1\n",
       "6        1        1        0       1                  0.785                1\n",
       "7        1        1        1       1                  0.852                1"
      ],
      "text/html": [
       "<div>\n",
       "<style scoped>\n",
       "    .dataframe tbody tr th:only-of-type {\n",
       "        vertical-align: middle;\n",
       "    }\n",
       "\n",
       "    .dataframe tbody tr th {\n",
       "        vertical-align: top;\n",
       "    }\n",
       "\n",
       "    .dataframe thead th {\n",
       "        text-align: right;\n",
       "    }\n",
       "</style>\n",
       "<table border=\"1\" class=\"dataframe\">\n",
       "  <thead>\n",
       "    <tr style=\"text-align: right;\">\n",
       "      <th></th>\n",
       "      <th>Input 1</th>\n",
       "      <th>Input 2</th>\n",
       "      <th>Input 3</th>\n",
       "      <th>Target</th>\n",
       "      <th>Predicted Probability</th>\n",
       "      <th>Predicted Class</th>\n",
       "    </tr>\n",
       "  </thead>\n",
       "  <tbody>\n",
       "    <tr>\n",
       "      <th>0</th>\n",
       "      <td>0</td>\n",
       "      <td>0</td>\n",
       "      <td>0</td>\n",
       "      <td>0</td>\n",
       "      <td>0.750</td>\n",
       "      <td>1</td>\n",
       "    </tr>\n",
       "    <tr>\n",
       "      <th>1</th>\n",
       "      <td>0</td>\n",
       "      <td>0</td>\n",
       "      <td>1</td>\n",
       "      <td>0</td>\n",
       "      <td>0.825</td>\n",
       "      <td>1</td>\n",
       "    </tr>\n",
       "    <tr>\n",
       "      <th>2</th>\n",
       "      <td>0</td>\n",
       "      <td>1</td>\n",
       "      <td>0</td>\n",
       "      <td>0</td>\n",
       "      <td>0.678</td>\n",
       "      <td>1</td>\n",
       "    </tr>\n",
       "    <tr>\n",
       "      <th>3</th>\n",
       "      <td>0</td>\n",
       "      <td>1</td>\n",
       "      <td>1</td>\n",
       "      <td>0</td>\n",
       "      <td>0.768</td>\n",
       "      <td>1</td>\n",
       "    </tr>\n",
       "    <tr>\n",
       "      <th>4</th>\n",
       "      <td>1</td>\n",
       "      <td>0</td>\n",
       "      <td>0</td>\n",
       "      <td>1</td>\n",
       "      <td>0.839</td>\n",
       "      <td>1</td>\n",
       "    </tr>\n",
       "    <tr>\n",
       "      <th>5</th>\n",
       "      <td>1</td>\n",
       "      <td>0</td>\n",
       "      <td>1</td>\n",
       "      <td>1</td>\n",
       "      <td>0.891</td>\n",
       "      <td>1</td>\n",
       "    </tr>\n",
       "    <tr>\n",
       "      <th>6</th>\n",
       "      <td>1</td>\n",
       "      <td>1</td>\n",
       "      <td>0</td>\n",
       "      <td>1</td>\n",
       "      <td>0.785</td>\n",
       "      <td>1</td>\n",
       "    </tr>\n",
       "    <tr>\n",
       "      <th>7</th>\n",
       "      <td>1</td>\n",
       "      <td>1</td>\n",
       "      <td>1</td>\n",
       "      <td>1</td>\n",
       "      <td>0.852</td>\n",
       "      <td>1</td>\n",
       "    </tr>\n",
       "  </tbody>\n",
       "</table>\n",
       "</div>"
      ]
     },
     "execution_count": 20,
     "metadata": {},
     "output_type": "execute_result"
    }
   ],
   "execution_count": 20
  },
  {
   "cell_type": "code",
   "id": "6bc98cbb",
   "metadata": {
    "ExecuteTime": {
     "end_time": "2025-03-24T10:45:49.704437Z",
     "start_time": "2025-03-24T10:45:49.645096Z"
    }
   },
   "source": [
    "# Confusion matrix\n",
    "cm = confusion_matrix(y, final_classes)\n",
    "ConfusionMatrixDisplay(confusion_matrix=cm).plot()\n",
    "plt.title(\"Confusion Matrix\")\n",
    "plt.show()\n",
    "\n",
    "accuracy = np.mean(final_classes == y)\n",
    "print(f\"Accuracy: {accuracy * 100:.2f}%\")"
   ],
   "outputs": [
    {
     "data": {
      "text/plain": [
       "<Figure size 640x480 with 2 Axes>"
      ],
      "image/png": "[encoded data removed]"
     },
     "metadata": {},
     "output_type": "display_data"
    },
    {
     "name": "stdout",
     "output_type": "stream",
     "text": [
      "Accuracy: 50.00%\n"
     ]
    }
   ],
   "execution_count": 21
  },
  {
   "cell_type": "markdown",
   "id": "8bbd4073",
   "metadata": {},
   "source": [
    "## ✅ Conclusion\n",
    "- The neuron **successfully learned** a rule: output 1 if at least 2 of the 3 inputs are active.\n",
    "- We used sigmoid activation and MSE loss.\n",
    "- This process demonstrates **forward pass**, **loss computation**, and **gradient descent**.\n",
    "\n",
    "This is the foundation of how deep learning models work, using many such neurons together. 🎓"
   ]
  }
 ],
 "metadata": {
  "kernelspec": {
   "display_name": "Python 3 (ipykernel)",
   "language": "python",
   "name": "python3"
  },
  "language_info": {
   "codemirror_mode": {
    "name": "ipython",
    "version": 3
   },
   "file_extension": ".py",
   "mimetype": "text/x-python",
   "name": "python",
   "nbconvert_exporter": "python",
   "pygments_lexer": "ipython3",
   "version": "3.12.3"
  }
 },
 "nbformat": 4,
 "nbformat_minor": 5
}
