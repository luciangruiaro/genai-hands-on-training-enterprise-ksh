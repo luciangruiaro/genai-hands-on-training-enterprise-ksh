{
 "cells": [
  {
   "cell_type": "markdown",
   "id": "7fc65ac5",
   "metadata": {},
   "source": [
    "# 🛠️ Feature Engineering: Employee Productivity Prediction\n",
    "This notebook walks through a practical example of feature engineering using a small employee dataset. We'll demonstrate feature creation, transformation, selection, and extraction with clear steps and visual outputs."
   ]
  },
  {
   "cell_type": "markdown",
   "id": "30ef2140",
   "metadata": {},
   "source": [
    "## 📥 Step 1: Load the Raw Dataset"
   ]
  },
  {
   "cell_type": "code",
   "id": "fc928945",
   "metadata": {
    "ExecuteTime": {
     "end_time": "2025-03-24T09:18:21.095387Z",
     "start_time": "2025-03-24T09:18:21.085084Z"
    }
   },
   "source": [
    "import pandas as pd\n",
    "import numpy as np\n",
    "import matplotlib.pyplot as plt\n",
    "import seaborn as sns\n",
    "\n",
    "# Initial raw dataset\n",
    "data = pd.DataFrame({\n",
    "    'Employee_ID': [1, 2, 3, 4],\n",
    "    'Age': [25, 40, 35, 28],\n",
    "    'Years_of_Experience': [3, 2, 10, 5],\n",
    "    'Education_Level': ['Bachelor', 'Master', 'PhD', 'Bachelor'],\n",
    "    'Salary': [50, 120, 100, 60],\n",
    "    'Work_Hours_per_Week': [40, 50, 45, 38],\n",
    "    'Remote_Work': ['Yes', 'No', 'No', 'Yes'],\n",
    "    'Department': ['IT', 'Finance', 'IT', 'HR']\n",
    "})\n",
    "\n",
    "# Add a synthetic productivity score\n",
    "data['Productivity_Score'] = (0.3 * data['Work_Hours_per_Week'] +\n",
    "                              0.4 * (data['Years_of_Experience'] / data['Age']) +\n",
    "                              0.2 * np.log(data['Salary']) +\n",
    "                              0.1 * (data['Remote_Work'] == 'Yes').astype(int)).round(2)\n",
    "data"
   ],
   "outputs": [
    {
     "data": {
      "text/plain": [
       "   Employee_ID  Age  Years_of_Experience Education_Level  Salary  \\\n",
       "0            1   25                    3        Bachelor      50   \n",
       "1            2   40                    2          Master     120   \n",
       "2            3   35                   10             PhD     100   \n",
       "3            4   28                    5        Bachelor      60   \n",
       "\n",
       "   Work_Hours_per_Week Remote_Work Department  Productivity_Score  \n",
       "0                   40         Yes         IT               12.93  \n",
       "1                   50          No    Finance               15.98  \n",
       "2                   45          No         IT               14.54  \n",
       "3                   38         Yes         HR               12.39  "
      ],
      "text/html": [
       "<div>\n",
       "<style scoped>\n",
       "    .dataframe tbody tr th:only-of-type {\n",
       "        vertical-align: middle;\n",
       "    }\n",
       "\n",
       "    .dataframe tbody tr th {\n",
       "        vertical-align: top;\n",
       "    }\n",
       "\n",
       "    .dataframe thead th {\n",
       "        text-align: right;\n",
       "    }\n",
       "</style>\n",
       "<table border=\"1\" class=\"dataframe\">\n",
       "  <thead>\n",
       "    <tr style=\"text-align: right;\">\n",
       "      <th></th>\n",
       "      <th>Employee_ID</th>\n",
       "      <th>Age</th>\n",
       "      <th>Years_of_Experience</th>\n",
       "      <th>Education_Level</th>\n",
       "      <th>Salary</th>\n",
       "      <th>Work_Hours_per_Week</th>\n",
       "      <th>Remote_Work</th>\n",
       "      <th>Department</th>\n",
       "      <th>Productivity_Score</th>\n",
       "    </tr>\n",
       "  </thead>\n",
       "  <tbody>\n",
       "    <tr>\n",
       "      <th>0</th>\n",
       "      <td>1</td>\n",
       "      <td>25</td>\n",
       "      <td>3</td>\n",
       "      <td>Bachelor</td>\n",
       "      <td>50</td>\n",
       "      <td>40</td>\n",
       "      <td>Yes</td>\n",
       "      <td>IT</td>\n",
       "      <td>12.93</td>\n",
       "    </tr>\n",
       "    <tr>\n",
       "      <th>1</th>\n",
       "      <td>2</td>\n",
       "      <td>40</td>\n",
       "      <td>2</td>\n",
       "      <td>Master</td>\n",
       "      <td>120</td>\n",
       "      <td>50</td>\n",
       "      <td>No</td>\n",
       "      <td>Finance</td>\n",
       "      <td>15.98</td>\n",
       "    </tr>\n",
       "    <tr>\n",
       "      <th>2</th>\n",
       "      <td>3</td>\n",
       "      <td>35</td>\n",
       "      <td>10</td>\n",
       "      <td>PhD</td>\n",
       "      <td>100</td>\n",
       "      <td>45</td>\n",
       "      <td>No</td>\n",
       "      <td>IT</td>\n",
       "      <td>14.54</td>\n",
       "    </tr>\n",
       "    <tr>\n",
       "      <th>3</th>\n",
       "      <td>4</td>\n",
       "      <td>28</td>\n",
       "      <td>5</td>\n",
       "      <td>Bachelor</td>\n",
       "      <td>60</td>\n",
       "      <td>38</td>\n",
       "      <td>Yes</td>\n",
       "      <td>HR</td>\n",
       "      <td>12.39</td>\n",
       "    </tr>\n",
       "  </tbody>\n",
       "</table>\n",
       "</div>"
      ]
     },
     "execution_count": 6,
     "metadata": {},
     "output_type": "execute_result"
    }
   ],
   "execution_count": 6
  },
  {
   "cell_type": "markdown",
   "id": "9fba6209",
   "metadata": {},
   "source": [
    "## ✳️ Step 2: Feature Creation – Add Experience-to-Age Ratio"
   ]
  },
  {
   "cell_type": "code",
   "id": "b3b4ed66",
   "metadata": {
    "ExecuteTime": {
     "end_time": "2025-03-24T09:18:23.107323Z",
     "start_time": "2025-03-24T09:18:23.101270Z"
    }
   },
   "source": [
    "data['Exp_Age_Ratio'] = data['Years_of_Experience'] / data['Age']\n",
    "data[['Employee_ID', 'Years_of_Experience', 'Age', 'Exp_Age_Ratio']]"
   ],
   "outputs": [
    {
     "data": {
      "text/plain": [
       "   Employee_ID  Years_of_Experience  Age  Exp_Age_Ratio\n",
       "0            1                    3   25       0.120000\n",
       "1            2                    2   40       0.050000\n",
       "2            3                   10   35       0.285714\n",
       "3            4                    5   28       0.178571"
      ],
      "text/html": [
       "<div>\n",
       "<style scoped>\n",
       "    .dataframe tbody tr th:only-of-type {\n",
       "        vertical-align: middle;\n",
       "    }\n",
       "\n",
       "    .dataframe tbody tr th {\n",
       "        vertical-align: top;\n",
       "    }\n",
       "\n",
       "    .dataframe thead th {\n",
       "        text-align: right;\n",
       "    }\n",
       "</style>\n",
       "<table border=\"1\" class=\"dataframe\">\n",
       "  <thead>\n",
       "    <tr style=\"text-align: right;\">\n",
       "      <th></th>\n",
       "      <th>Employee_ID</th>\n",
       "      <th>Years_of_Experience</th>\n",
       "      <th>Age</th>\n",
       "      <th>Exp_Age_Ratio</th>\n",
       "    </tr>\n",
       "  </thead>\n",
       "  <tbody>\n",
       "    <tr>\n",
       "      <th>0</th>\n",
       "      <td>1</td>\n",
       "      <td>3</td>\n",
       "      <td>25</td>\n",
       "      <td>0.120000</td>\n",
       "    </tr>\n",
       "    <tr>\n",
       "      <th>1</th>\n",
       "      <td>2</td>\n",
       "      <td>2</td>\n",
       "      <td>40</td>\n",
       "      <td>0.050000</td>\n",
       "    </tr>\n",
       "    <tr>\n",
       "      <th>2</th>\n",
       "      <td>3</td>\n",
       "      <td>10</td>\n",
       "      <td>35</td>\n",
       "      <td>0.285714</td>\n",
       "    </tr>\n",
       "    <tr>\n",
       "      <th>3</th>\n",
       "      <td>4</td>\n",
       "      <td>5</td>\n",
       "      <td>28</td>\n",
       "      <td>0.178571</td>\n",
       "    </tr>\n",
       "  </tbody>\n",
       "</table>\n",
       "</div>"
      ]
     },
     "execution_count": 7,
     "metadata": {},
     "output_type": "execute_result"
    }
   ],
   "execution_count": 7
  },
  {
   "cell_type": "markdown",
   "id": "43575633",
   "metadata": {},
   "source": [
    "## 🔁 Step 3: Feature Transformation – Log Transformation of Salary"
   ]
  },
  {
   "cell_type": "code",
   "id": "64a9c6d6",
   "metadata": {
    "ExecuteTime": {
     "end_time": "2025-03-24T09:18:25.286288Z",
     "start_time": "2025-03-24T09:18:25.278807Z"
    }
   },
   "source": [
    "data['Log_Salary'] = np.log(data['Salary'])\n",
    "data[['Employee_ID', 'Salary', 'Log_Salary']]"
   ],
   "outputs": [
    {
     "data": {
      "text/plain": [
       "   Employee_ID  Salary  Log_Salary\n",
       "0            1      50    3.912023\n",
       "1            2     120    4.787492\n",
       "2            3     100    4.605170\n",
       "3            4      60    4.094345"
      ],
      "text/html": [
       "<div>\n",
       "<style scoped>\n",
       "    .dataframe tbody tr th:only-of-type {\n",
       "        vertical-align: middle;\n",
       "    }\n",
       "\n",
       "    .dataframe tbody tr th {\n",
       "        vertical-align: top;\n",
       "    }\n",
       "\n",
       "    .dataframe thead th {\n",
       "        text-align: right;\n",
       "    }\n",
       "</style>\n",
       "<table border=\"1\" class=\"dataframe\">\n",
       "  <thead>\n",
       "    <tr style=\"text-align: right;\">\n",
       "      <th></th>\n",
       "      <th>Employee_ID</th>\n",
       "      <th>Salary</th>\n",
       "      <th>Log_Salary</th>\n",
       "    </tr>\n",
       "  </thead>\n",
       "  <tbody>\n",
       "    <tr>\n",
       "      <th>0</th>\n",
       "      <td>1</td>\n",
       "      <td>50</td>\n",
       "      <td>3.912023</td>\n",
       "    </tr>\n",
       "    <tr>\n",
       "      <th>1</th>\n",
       "      <td>2</td>\n",
       "      <td>120</td>\n",
       "      <td>4.787492</td>\n",
       "    </tr>\n",
       "    <tr>\n",
       "      <th>2</th>\n",
       "      <td>3</td>\n",
       "      <td>100</td>\n",
       "      <td>4.605170</td>\n",
       "    </tr>\n",
       "    <tr>\n",
       "      <th>3</th>\n",
       "      <td>4</td>\n",
       "      <td>60</td>\n",
       "      <td>4.094345</td>\n",
       "    </tr>\n",
       "  </tbody>\n",
       "</table>\n",
       "</div>"
      ]
     },
     "execution_count": 8,
     "metadata": {},
     "output_type": "execute_result"
    }
   ],
   "execution_count": 8
  },
  {
   "cell_type": "markdown",
   "id": "11880f89",
   "metadata": {},
   "source": [
    "## 🧹 Step 4: Feature Selection – Remove Redundant Columns"
   ]
  },
  {
   "cell_type": "code",
   "id": "f33c323a",
   "metadata": {
    "ExecuteTime": {
     "end_time": "2025-03-24T09:18:27.117906Z",
     "start_time": "2025-03-24T09:18:27.109863Z"
    }
   },
   "source": [
    "data.drop(columns=['Years_of_Experience'], inplace=True)\n",
    "data.head()"
   ],
   "outputs": [
    {
     "data": {
      "text/plain": [
       "   Employee_ID  Age Education_Level  Salary  Work_Hours_per_Week Remote_Work  \\\n",
       "0            1   25        Bachelor      50                   40         Yes   \n",
       "1            2   40          Master     120                   50          No   \n",
       "2            3   35             PhD     100                   45          No   \n",
       "3            4   28        Bachelor      60                   38         Yes   \n",
       "\n",
       "  Department  Productivity_Score  Exp_Age_Ratio  Log_Salary  \n",
       "0         IT               12.93       0.120000    3.912023  \n",
       "1    Finance               15.98       0.050000    4.787492  \n",
       "2         IT               14.54       0.285714    4.605170  \n",
       "3         HR               12.39       0.178571    4.094345  "
      ],
      "text/html": [
       "<div>\n",
       "<style scoped>\n",
       "    .dataframe tbody tr th:only-of-type {\n",
       "        vertical-align: middle;\n",
       "    }\n",
       "\n",
       "    .dataframe tbody tr th {\n",
       "        vertical-align: top;\n",
       "    }\n",
       "\n",
       "    .dataframe thead th {\n",
       "        text-align: right;\n",
       "    }\n",
       "</style>\n",
       "<table border=\"1\" class=\"dataframe\">\n",
       "  <thead>\n",
       "    <tr style=\"text-align: right;\">\n",
       "      <th></th>\n",
       "      <th>Employee_ID</th>\n",
       "      <th>Age</th>\n",
       "      <th>Education_Level</th>\n",
       "      <th>Salary</th>\n",
       "      <th>Work_Hours_per_Week</th>\n",
       "      <th>Remote_Work</th>\n",
       "      <th>Department</th>\n",
       "      <th>Productivity_Score</th>\n",
       "      <th>Exp_Age_Ratio</th>\n",
       "      <th>Log_Salary</th>\n",
       "    </tr>\n",
       "  </thead>\n",
       "  <tbody>\n",
       "    <tr>\n",
       "      <th>0</th>\n",
       "      <td>1</td>\n",
       "      <td>25</td>\n",
       "      <td>Bachelor</td>\n",
       "      <td>50</td>\n",
       "      <td>40</td>\n",
       "      <td>Yes</td>\n",
       "      <td>IT</td>\n",
       "      <td>12.93</td>\n",
       "      <td>0.120000</td>\n",
       "      <td>3.912023</td>\n",
       "    </tr>\n",
       "    <tr>\n",
       "      <th>1</th>\n",
       "      <td>2</td>\n",
       "      <td>40</td>\n",
       "      <td>Master</td>\n",
       "      <td>120</td>\n",
       "      <td>50</td>\n",
       "      <td>No</td>\n",
       "      <td>Finance</td>\n",
       "      <td>15.98</td>\n",
       "      <td>0.050000</td>\n",
       "      <td>4.787492</td>\n",
       "    </tr>\n",
       "    <tr>\n",
       "      <th>2</th>\n",
       "      <td>3</td>\n",
       "      <td>35</td>\n",
       "      <td>PhD</td>\n",
       "      <td>100</td>\n",
       "      <td>45</td>\n",
       "      <td>No</td>\n",
       "      <td>IT</td>\n",
       "      <td>14.54</td>\n",
       "      <td>0.285714</td>\n",
       "      <td>4.605170</td>\n",
       "    </tr>\n",
       "    <tr>\n",
       "      <th>3</th>\n",
       "      <td>4</td>\n",
       "      <td>28</td>\n",
       "      <td>Bachelor</td>\n",
       "      <td>60</td>\n",
       "      <td>38</td>\n",
       "      <td>Yes</td>\n",
       "      <td>HR</td>\n",
       "      <td>12.39</td>\n",
       "      <td>0.178571</td>\n",
       "      <td>4.094345</td>\n",
       "    </tr>\n",
       "  </tbody>\n",
       "</table>\n",
       "</div>"
      ]
     },
     "execution_count": 9,
     "metadata": {},
     "output_type": "execute_result"
    }
   ],
   "execution_count": 9
  },
  {
   "cell_type": "markdown",
   "id": "52ec02ec",
   "metadata": {},
   "source": [
    "## 🔤 Step 5: Feature Extraction – Encode Categorical Variables"
   ]
  },
  {
   "cell_type": "code",
   "id": "40e10934",
   "metadata": {
    "ExecuteTime": {
     "end_time": "2025-03-24T09:18:28.923295Z",
     "start_time": "2025-03-24T09:18:28.913855Z"
    }
   },
   "source": [
    "# Ordinal encode education\n",
    "education_map = {'Bachelor': 1, 'Master': 2, 'PhD': 3}\n",
    "data['Edu_Level'] = data['Education_Level'].map(education_map)\n",
    "\n",
    "# Binary encode Remote_Work\n",
    "data['Remote'] = data['Remote_Work'].map({'No': 0, 'Yes': 1})\n",
    "\n",
    "# One-hot encode Department\n",
    "dept_dummies = pd.get_dummies(data['Department'], prefix='Dept')\n",
    "data = pd.concat([data, dept_dummies], axis=1)\n",
    "\n",
    "# Drop old columns\n",
    "data.drop(columns=['Education_Level', 'Remote_Work', 'Department'], inplace=True)\n",
    "data.head()"
   ],
   "outputs": [
    {
     "data": {
      "text/plain": [
       "   Employee_ID  Age  Salary  Work_Hours_per_Week  Productivity_Score  \\\n",
       "0            1   25      50                   40               12.93   \n",
       "1            2   40     120                   50               15.98   \n",
       "2            3   35     100                   45               14.54   \n",
       "3            4   28      60                   38               12.39   \n",
       "\n",
       "   Exp_Age_Ratio  Log_Salary  Edu_Level  Remote  Dept_Finance  Dept_HR  \\\n",
       "0       0.120000    3.912023          1       1         False    False   \n",
       "1       0.050000    4.787492          2       0          True    False   \n",
       "2       0.285714    4.605170          3       0         False    False   \n",
       "3       0.178571    4.094345          1       1         False     True   \n",
       "\n",
       "   Dept_IT  \n",
       "0     True  \n",
       "1    False  \n",
       "2     True  \n",
       "3    False  "
      ],
      "text/html": [
       "<div>\n",
       "<style scoped>\n",
       "    .dataframe tbody tr th:only-of-type {\n",
       "        vertical-align: middle;\n",
       "    }\n",
       "\n",
       "    .dataframe tbody tr th {\n",
       "        vertical-align: top;\n",
       "    }\n",
       "\n",
       "    .dataframe thead th {\n",
       "        text-align: right;\n",
       "    }\n",
       "</style>\n",
       "<table border=\"1\" class=\"dataframe\">\n",
       "  <thead>\n",
       "    <tr style=\"text-align: right;\">\n",
       "      <th></th>\n",
       "      <th>Employee_ID</th>\n",
       "      <th>Age</th>\n",
       "      <th>Salary</th>\n",
       "      <th>Work_Hours_per_Week</th>\n",
       "      <th>Productivity_Score</th>\n",
       "      <th>Exp_Age_Ratio</th>\n",
       "      <th>Log_Salary</th>\n",
       "      <th>Edu_Level</th>\n",
       "      <th>Remote</th>\n",
       "      <th>Dept_Finance</th>\n",
       "      <th>Dept_HR</th>\n",
       "      <th>Dept_IT</th>\n",
       "    </tr>\n",
       "  </thead>\n",
       "  <tbody>\n",
       "    <tr>\n",
       "      <th>0</th>\n",
       "      <td>1</td>\n",
       "      <td>25</td>\n",
       "      <td>50</td>\n",
       "      <td>40</td>\n",
       "      <td>12.93</td>\n",
       "      <td>0.120000</td>\n",
       "      <td>3.912023</td>\n",
       "      <td>1</td>\n",
       "      <td>1</td>\n",
       "      <td>False</td>\n",
       "      <td>False</td>\n",
       "      <td>True</td>\n",
       "    </tr>\n",
       "    <tr>\n",
       "      <th>1</th>\n",
       "      <td>2</td>\n",
       "      <td>40</td>\n",
       "      <td>120</td>\n",
       "      <td>50</td>\n",
       "      <td>15.98</td>\n",
       "      <td>0.050000</td>\n",
       "      <td>4.787492</td>\n",
       "      <td>2</td>\n",
       "      <td>0</td>\n",
       "      <td>True</td>\n",
       "      <td>False</td>\n",
       "      <td>False</td>\n",
       "    </tr>\n",
       "    <tr>\n",
       "      <th>2</th>\n",
       "      <td>3</td>\n",
       "      <td>35</td>\n",
       "      <td>100</td>\n",
       "      <td>45</td>\n",
       "      <td>14.54</td>\n",
       "      <td>0.285714</td>\n",
       "      <td>4.605170</td>\n",
       "      <td>3</td>\n",
       "      <td>0</td>\n",
       "      <td>False</td>\n",
       "      <td>False</td>\n",
       "      <td>True</td>\n",
       "    </tr>\n",
       "    <tr>\n",
       "      <th>3</th>\n",
       "      <td>4</td>\n",
       "      <td>28</td>\n",
       "      <td>60</td>\n",
       "      <td>38</td>\n",
       "      <td>12.39</td>\n",
       "      <td>0.178571</td>\n",
       "      <td>4.094345</td>\n",
       "      <td>1</td>\n",
       "      <td>1</td>\n",
       "      <td>False</td>\n",
       "      <td>True</td>\n",
       "      <td>False</td>\n",
       "    </tr>\n",
       "  </tbody>\n",
       "</table>\n",
       "</div>"
      ]
     },
     "execution_count": 10,
     "metadata": {},
     "output_type": "execute_result"
    }
   ],
   "execution_count": 10
  },
  {
   "cell_type": "markdown",
   "id": "2b6b306f",
   "metadata": {},
   "source": [
    "## 📊 Step 6: Visualize Relationships"
   ]
  },
  {
   "cell_type": "code",
   "id": "199c6cc2",
   "metadata": {
    "ExecuteTime": {
     "end_time": "2025-03-24T09:18:32.345480Z",
     "start_time": "2025-03-24T09:18:31.025419Z"
    }
   },
   "source": [
    "sns.pairplot(data[['Age', 'Exp_Age_Ratio', 'Log_Salary', 'Work_Hours_per_Week', 'Productivity_Score']]);"
   ],
   "outputs": [
    {
     "data": {
      "text/plain": [
       "<Figure size 1250x1250 with 30 Axes>"
      ],
      "image/png": "[encoded data removed]"
     },
     "metadata": {},
     "output_type": "display_data"
    }
   ],
   "execution_count": 11
  },
  {
   "cell_type": "markdown",
   "id": "33957561",
   "metadata": {},
   "source": [
    "## ✅ Final Engineered Dataset"
   ]
  },
  {
   "cell_type": "code",
   "id": "638bb8d0",
   "metadata": {
    "ExecuteTime": {
     "end_time": "2025-03-24T09:21:38.330582Z",
     "start_time": "2025-03-24T09:21:38.321967Z"
    }
   },
   "source": [
    "data.round(2)"
   ],
   "outputs": [
    {
     "data": {
      "text/plain": [
       "   Employee_ID  Age  Salary  Work_Hours_per_Week  Productivity_Score  \\\n",
       "0            1   25      50                   40               12.93   \n",
       "1            2   40     120                   50               15.98   \n",
       "2            3   35     100                   45               14.54   \n",
       "3            4   28      60                   38               12.39   \n",
       "\n",
       "   Exp_Age_Ratio  Log_Salary  Edu_Level  Remote  Dept_Finance  Dept_HR  \\\n",
       "0           0.12        3.91          1       1         False    False   \n",
       "1           0.05        4.79          2       0          True    False   \n",
       "2           0.29        4.61          3       0         False    False   \n",
       "3           0.18        4.09          1       1         False     True   \n",
       "\n",
       "   Dept_IT  \n",
       "0     True  \n",
       "1    False  \n",
       "2     True  \n",
       "3    False  "
      ],
      "text/html": [
       "<div>\n",
       "<style scoped>\n",
       "    .dataframe tbody tr th:only-of-type {\n",
       "        vertical-align: middle;\n",
       "    }\n",
       "\n",
       "    .dataframe tbody tr th {\n",
       "        vertical-align: top;\n",
       "    }\n",
       "\n",
       "    .dataframe thead th {\n",
       "        text-align: right;\n",
       "    }\n",
       "</style>\n",
       "<table border=\"1\" class=\"dataframe\">\n",
       "  <thead>\n",
       "    <tr style=\"text-align: right;\">\n",
       "      <th></th>\n",
       "      <th>Employee_ID</th>\n",
       "      <th>Age</th>\n",
       "      <th>Salary</th>\n",
       "      <th>Work_Hours_per_Week</th>\n",
       "      <th>Productivity_Score</th>\n",
       "      <th>Exp_Age_Ratio</th>\n",
       "      <th>Log_Salary</th>\n",
       "      <th>Edu_Level</th>\n",
       "      <th>Remote</th>\n",
       "      <th>Dept_Finance</th>\n",
       "      <th>Dept_HR</th>\n",
       "      <th>Dept_IT</th>\n",
       "    </tr>\n",
       "  </thead>\n",
       "  <tbody>\n",
       "    <tr>\n",
       "      <th>0</th>\n",
       "      <td>1</td>\n",
       "      <td>25</td>\n",
       "      <td>50</td>\n",
       "      <td>40</td>\n",
       "      <td>12.93</td>\n",
       "      <td>0.12</td>\n",
       "      <td>3.91</td>\n",
       "      <td>1</td>\n",
       "      <td>1</td>\n",
       "      <td>False</td>\n",
       "      <td>False</td>\n",
       "      <td>True</td>\n",
       "    </tr>\n",
       "    <tr>\n",
       "      <th>1</th>\n",
       "      <td>2</td>\n",
       "      <td>40</td>\n",
       "      <td>120</td>\n",
       "      <td>50</td>\n",
       "      <td>15.98</td>\n",
       "      <td>0.05</td>\n",
       "      <td>4.79</td>\n",
       "      <td>2</td>\n",
       "      <td>0</td>\n",
       "      <td>True</td>\n",
       "      <td>False</td>\n",
       "      <td>False</td>\n",
       "    </tr>\n",
       "    <tr>\n",
       "      <th>2</th>\n",
       "      <td>3</td>\n",
       "      <td>35</td>\n",
       "      <td>100</td>\n",
       "      <td>45</td>\n",
       "      <td>14.54</td>\n",
       "      <td>0.29</td>\n",
       "      <td>4.61</td>\n",
       "      <td>3</td>\n",
       "      <td>0</td>\n",
       "      <td>False</td>\n",
       "      <td>False</td>\n",
       "      <td>True</td>\n",
       "    </tr>\n",
       "    <tr>\n",
       "      <th>3</th>\n",
       "      <td>4</td>\n",
       "      <td>28</td>\n",
       "      <td>60</td>\n",
       "      <td>38</td>\n",
       "      <td>12.39</td>\n",
       "      <td>0.18</td>\n",
       "      <td>4.09</td>\n",
       "      <td>1</td>\n",
       "      <td>1</td>\n",
       "      <td>False</td>\n",
       "      <td>True</td>\n",
       "      <td>False</td>\n",
       "    </tr>\n",
       "  </tbody>\n",
       "</table>\n",
       "</div>"
      ]
     },
     "execution_count": 12,
     "metadata": {},
     "output_type": "execute_result"
    }
   ],
   "execution_count": 12
  }
 ],
 "metadata": {
  "kernelspec": {
   "display_name": "Python 3 (ipykernel)",
   "language": "python",
   "name": "python3"
  },
  "language_info": {
   "codemirror_mode": {
    "name": "ipython",
    "version": 3
   },
   "file_extension": ".py",
   "mimetype": "text/x-python",
   "name": "python",
   "nbconvert_exporter": "python",
   "pygments_lexer": "ipython3",
   "version": "3.12.3"
  }
 },
 "nbformat": 4,
 "nbformat_minor": 5
}
