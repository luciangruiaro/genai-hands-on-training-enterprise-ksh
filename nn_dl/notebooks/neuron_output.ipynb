{
 "cells": [
  {
   "cell_type": "markdown",
   "id": "11c6227c",
   "metadata": {},
   "source": [
    "# 🧠 Step-by-Step Single Neuron Computation with Sigmoid Activation"
   ]
  },
  {
   "cell_type": "markdown",
   "id": "87cdecc7",
   "metadata": {},
   "source": [
    "In this notebook, we walk through how a **single neuron** computes its output given:\n",
    "- A list of input values\n",
    "- A list of weights (one for each input)\n",
    "- A bias term\n",
    "\n",
    "We'll use the **sigmoid activation function** to produce the final output.\n",
    "\n",
    "The formula for the output is:\n",
    "\\begin{align}\n",
    "z &= \\sum (x_i \\cdot w_i) + b \\\\\n",
    "a &= \\sigma(z) = \\frac{1}{1 + e^{-z}}\n",
    "\\end{align}"
   ]
  },
  {
   "cell_type": "code",
   "id": "703e1623",
   "metadata": {
    "ExecuteTime": {
     "end_time": "2025-03-24T10:30:41.582957Z",
     "start_time": "2025-03-24T10:30:41.568427Z"
    }
   },
   "source": [
    "# Imports\n",
    "import numpy as np\n",
    "import matplotlib.pyplot as plt\n",
    "from math import exp\n"
   ],
   "outputs": [],
   "execution_count": 10
  },
  {
   "cell_type": "markdown",
   "id": "337feb4a76b7160b",
   "metadata": {},
   "source": [
    "---\n",
    "### 🧠 The activation function\n",
    "We define the sigmoid activation function, which is one of the most commonly used nonlinear functions in neural networks.\n",
    "\n",
    "Mathematically, it's defined as:\n",
    "\\begin{align}\n",
    "\\sigma(z) = \\frac{1}{1 + e^{-z}}\n",
    "\\end{align}\n",
    "This function maps any real-valued input into a value between 0 and 1."
   ]
  },
  {
   "cell_type": "code",
   "id": "7e261a50",
   "metadata": {
    "ExecuteTime": {
     "end_time": "2025-03-24T10:30:49.439761Z",
     "start_time": "2025-03-24T10:30:49.435461Z"
    }
   },
   "source": [
    "# Sigmoid activation function\n",
    "def sigmoid(z):\n",
    "    return 1 / (1 + exp(-z))"
   ],
   "outputs": [],
   "execution_count": 11
  },
  {
   "cell_type": "markdown",
   "id": "63169248421a705c",
   "metadata": {},
   "source": [
    "### 🔍 How to interpret it?\n",
    "The sigmoid function is often used in the output layer of a binary classification neuron because it gives a smooth probability-like result:\n",
    "\n",
    "- If z is a large positive number → sigmoid(z) approaches 1\n",
    "- If z is a large negative number → sigmoid(z) approaches 0\n",
    "- If z is 0 → sigmoid(0) is 0.5, the midpoint\n",
    "\n",
    "This behavior makes it great for decisions where the output can be interpreted as a confidence or likelihood."
   ]
  },
  {
   "cell_type": "markdown",
   "id": "b3f86c98aed44be0",
   "metadata": {},
   "source": [
    "---\n",
    "### 🧠 Core components of a neuron\n",
    "In this step, we define the core components of a neuron:\n",
    "- inputs: the values that enter the neuron (think of these as features of a data point)\n",
    "- weights: the importance each input has in influencing the final output\n",
    "- bias: a trainable constant added to the weighted sum, allowing flexibility in shifting the activation function.\n",
    "These are the values the neuron will use to compute its output."
   ]
  },
  {
   "metadata": {
    "ExecuteTime": {
     "end_time": "2025-03-24T10:34:31.251763Z",
     "start_time": "2025-03-24T10:34:31.247823Z"
    }
   },
   "cell_type": "code",
   "source": [
    "# Define inputs, weights, and bias\n",
    "inputs = [1, 0, 0]  # Input vector (x1, x2, x3)\n",
    "weights = [1, 0, 0]  # Corresponding weights (w1, w2, w3)\n",
    "bias = 0  # Bias term (b)\n",
    "print(f\"Inputs: {inputs}\")\n",
    "print(f\"Weights: {weights}\")\n",
    "print(f\"Bias: {bias}\")"
   ],
   "id": "5bfd98f4c6a872c1",
   "outputs": [
    {
     "name": "stdout",
     "output_type": "stream",
     "text": [
      "Inputs: [1, 0, 0]\n",
      "Weights: [1, 0, 0]\n",
      "Bias: 0\n"
     ]
    }
   ],
   "execution_count": 20
  },
  {
   "cell_type": "markdown",
   "id": "2855fbc9d03fb085",
   "metadata": {},
   "source": [
    "### 🔍 How to interpret it?\n",
    "This setup describes a single artificial neuron with 3 inputs:\n",
    "- The neuron will multiply each input by its corresponding weight.\n",
    "- Then it will sum all these products and add the bias.\n",
    "- Finally, the result will be passed through the activation function (like sigmoid) to produce an output between 0 and 1.\n",
    "This is the foundational computation that drives more complex neural networks."
   ]
  },
  {
   "cell_type": "markdown",
   "id": "9f26665d419fb721",
   "metadata": {},
   "source": [
    "---\n",
    "### 🧮 Weighted Input Sum\n",
    "Now we compute the **weighted sum (z)** of the inputs:\n",
    "\\begin{align}\n",
    " z = x_1 \\cdot w_1 + x_2 \\cdot w_2 + x_3 \\cdot w_3 + b\n",
    "\\end{align}\n",
    "This is the **linear combination** of inputs and weights, plus the bias term. It's the input to the activation function."
   ]
  },
  {
   "cell_type": "code",
   "id": "b6a6c114",
   "metadata": {
    "ExecuteTime": {
     "end_time": "2025-03-24T10:34:39.415798Z",
     "start_time": "2025-03-24T10:34:39.411279Z"
    }
   },
   "source": [
    "# Step-by-step calculation of weighted sum\n",
    "weighted_sum = sum(x * w for x, w in zip(inputs, weights)) + bias\n",
    "print(f\"Weighted sum (z): {weighted_sum:.4f}\")"
   ],
   "outputs": [
    {
     "name": "stdout",
     "output_type": "stream",
     "text": [
      "Weighted sum (z): 1.0000\n"
     ]
    }
   ],
   "execution_count": 21
  },
  {
   "cell_type": "markdown",
   "id": "ce52789354af086",
   "metadata": {},
   "source": [
    "\n",
    "### 📊 How to interpret it?\n",
    "\n",
    "This value `z` tells us how \"strong\" the signal is before it's passed through the activation function.\n",
    "\n",
    "- If `z` is large and positive → the neuron is strongly activated.\n",
    "- If `z` is near zero → the neuron is uncertain.\n",
    "- If `z` is negative → the neuron is likely deactivated.\n",
    "\n",
    "We'll now pass this value through **sigmoid** to squash it into the [0, 1] range."
   ]
  },
  {
   "cell_type": "markdown",
   "id": "e57d21f3cf30eeb3",
   "metadata": {},
   "source": [
    "Here's the markdown explanation to surround your last code block:\n",
    "\n",
    "---\n",
    "\n",
    "### 🧠 Output Computation\n",
    "\n",
    "This step applies the **sigmoid activation function** to the weighted sum:\n",
    "\n",
    "\\begin{align}\n",
    "a &= \\sigma(z) = \\frac{1}{1 + e^{-z}}\n",
    "\\end{align}\n",
    "\n",
    "The sigmoid function converts the raw output (`z`) into a value between 0 and 1 — representing a probability or confidence."
   ]
  },
  {
   "cell_type": "code",
   "id": "48fef43a",
   "metadata": {
    "ExecuteTime": {
     "end_time": "2025-03-24T10:34:41.290325Z",
     "start_time": "2025-03-24T10:34:41.286989Z"
    }
   },
   "source": [
    "# Compute activated output\n",
    "output = sigmoid(weighted_sum)\n",
    "print(f\"Activated output (a): {output:.4f}\")"
   ],
   "outputs": [
    {
     "name": "stdout",
     "output_type": "stream",
     "text": [
      "Activated output (a): 0.7311\n"
     ]
    }
   ],
   "execution_count": 22
  },
  {
   "cell_type": "markdown",
   "id": "5c25b9b13f7311ae",
   "metadata": {},
   "source": [
    "### 📈 How to interpret it?\n",
    "\n",
    "- If `a` is close to **1**, the neuron \"fires\" — indicating a strong match.\n",
    "- If `a` is near **0**, the neuron is \"off\" — no activation.\n",
    "- Values near **0.5** represent **uncertainty**.\n",
    "\n",
    "This final output is what the neuron returns — it’s the prediction, classification score, or signal to pass forward in a neural network."
   ]
  },
  {
   "cell_type": "markdown",
   "id": "7b7d800c89a16d18",
   "metadata": {},
   "source": [
    "---\n",
    "### 📊 Vizualization\n",
    "This chart visually shows the sigmoid activation function over a range of input values z, highlighting:\n",
    "- The input to the neuron (z, in red dashed line)\n",
    "- The activated output (a = sigmoid(z), in green dashed line)\n",
    "This helps you understand where on the sigmoid curve your neuron's current output lies."
   ]
  },
  {
   "cell_type": "code",
   "id": "b0502753",
   "metadata": {
    "ExecuteTime": {
     "end_time": "2025-03-24T10:34:43.278097Z",
     "start_time": "2025-03-24T10:34:43.210362Z"
    }
   },
   "source": [
    "# Visualization\n",
    "z_values = np.linspace(-10, 10, 200)\n",
    "sigmoid_values = [sigmoid(z) for z in z_values]\n",
    "\n",
    "plt.plot(z_values, sigmoid_values, label='Sigmoid Function')\n",
    "plt.axvline(weighted_sum, color='red', linestyle='--', label='Neuron Input z')\n",
    "plt.axhline(output, color='green', linestyle='--', label='Output a')\n",
    "plt.xlabel('z')\n",
    "plt.ylabel('sigmoid(z)')\n",
    "plt.title('Sigmoid Activation of Neuron Output')\n",
    "plt.grid(True)\n",
    "plt.legend()\n",
    "plt.show()"
   ],
   "outputs": [
    {
     "data": {
      "text/plain": [
       "<Figure size 640x480 with 1 Axes>"
      ],
      "image/png": "[encoded data removed]"
     },
     "metadata": {},
     "output_type": "display_data"
    }
   ],
   "execution_count": 23
  },
  {
   "cell_type": "markdown",
   "id": "b6b1cd6854543dbc",
   "metadata": {},
   "source": [
    "### 🧩 How to interpret it?\n",
    "- The sigmoid curve shows how values of z are mapped to outputs between 0 and 1.\n",
    "- The red vertical line marks our current neuron's input (z = weighted_sum).\n",
    "- The green horizontal line shows the corresponding output (a = sigmoid(z))."
   ]
  }
 ],
 "metadata": {
  "kernelspec": {
   "display_name": "Python 3 (ipykernel)",
   "language": "python",
   "name": "python3"
  },
  "language_info": {
   "codemirror_mode": {
    "name": "ipython",
    "version": 3
   },
   "file_extension": ".py",
   "mimetype": "text/x-python",
   "name": "python",
   "nbconvert_exporter": "python",
   "pygments_lexer": "ipython3",
   "version": "3.12.3"
  }
 },
 "nbformat": 4,
 "nbformat_minor": 5
}
